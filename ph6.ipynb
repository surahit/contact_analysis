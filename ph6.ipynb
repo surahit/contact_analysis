{
 "cells": [
  {
   "cell_type": "code",
   "execution_count": 1,
   "id": "e8a4338e-0a38-40bf-94f6-6960e5c2a972",
   "metadata": {},
   "outputs": [
    {
     "name": "stderr",
     "output_type": "stream",
     "text": [
      "/home/numerik/bzfchewl/.local/lib/python3.12/site-packages/MDAnalysis/topology/tables.py:52: DeprecationWarning: Deprecated in version 2.8.0\n",
      "MDAnalysis.topology.tables has been moved to MDAnalysis.guesser.tables. This import point will be removed in MDAnalysis version 3.0.0\n",
      "  warnings.warn(wmsg, category=DeprecationWarning)\n",
      "/home/numerik/bzfchewl/.local/lib/python3.12/site-packages/MDAnalysis/coordinates/DCD.py:165: DeprecationWarning: DCDReader currently makes independent timesteps by copying self.ts while other readers update self.ts inplace. This behavior will be changed in 3.0 to be the same as other readers. Read more at https://github.com/MDAnalysis/mdanalysis/issues/3889 to learn if this change in behavior might affect you.\n",
      "  warnings.warn(\"DCDReader currently makes independent timesteps\"\n"
     ]
    },
    {
     "data": {
      "text/plain": [
       "(<AtomGroup with 49 atoms>, <AtomGroup with 4722 atoms>)"
      ]
     },
     "execution_count": 1,
     "metadata": {},
     "output_type": "execute_result"
    }
   ],
   "source": [
    "import numpy as np\n",
    "import MDAnalysis as mda\n",
    "from MDAnalysis.topology.guessers import guess_atom_element  \n",
    "import prolif as plf\n",
    "import sys, types, tqdm.std\n",
    "import dill, tqdm\n",
    "from tqdm.auto import tqdm as _tqdm_singleton\n",
    "dill.settings['recurse'] = True\n",
    "if 'tqdm.auto' not in sys.modules:          # patch only if absent\n",
    "    sys.modules['tqdm.auto'] = types.ModuleType('tqdm.auto')\n",
    "    sys.modules['tqdm.auto'].tqdm = tqdm.std.tqdm\n",
    "\n",
    "# load topology and trajectory\n",
    "u = mda.Universe(\"/data/numerik/bzfchewl/data_for_isokann/dcd_input/des_prod_8ef5_stripped_aligned_pH6_propka_3_8ef5_pH6/struct1.psf\", \"/data/numerik/bzfchewl/data_for_isokann/dcd_input/des_prod_8ef5_stripped_aligned_pH6_propka_3_8ef5_pH6/traj1.dcd\")\n",
    "#u = mda.Universe(\"/data/numerik/bzfchewl/data_for_isokann/dcd_input/des_prod_8ef5_stripped_aligned_pH74_propka_3_8ef5_pH6_replica_3/struct1.psf\", \"/data/numerik/bzfchewl/data_for_isokann/dcd_input/des_prod_8ef5_stripped_aligned_pH74_propka_3_8ef5_pH6_replica_3/traj1.dcd\")\n",
    "ligand_selection = u.select_atoms(\"resname LIG\")\n",
    "#protein_selection = u.select_atoms(\"protein\")\n",
    "protein_selection = u.select_atoms(\"protein and not name LP*\")\n",
    "ligand_selection, protein_selection\n",
    "\n",
    "\n"
   ]
  },
  {
   "cell_type": "code",
   "execution_count": 2,
   "id": "c54d0fa1-4a01-479a-8db9-1565e487769f",
   "metadata": {},
   "outputs": [
    {
     "name": "stdout",
     "output_type": "stream",
     "text": [
      "Segid C2: 291 residues\n"
     ]
    }
   ],
   "source": [
    "if hasattr(u.atoms, \"chainIDs\") and not np.all(u.atoms.chainIDs == \"\"):\n",
    "    attr      = \"chainIDs\"           # PDB column 22, 1-letter\n",
    "    key_word  = \"chainid\"            # MDAnalysis selection keyword\n",
    "else:\n",
    "    attr      = \"segids\"             # PDB columns 73-76, up to 4 letters\n",
    "    key_word  = \"segid\"\n",
    "\n",
    "# ── 2. Get the unique labels ──────────────────────────────────────────\n",
    "labels = np.unique(getattr(u.atoms, attr))\n",
    "\n",
    "# ── 3. Count residues per label ───────────────────────────────────────\n",
    "for lbl in labels:\n",
    "    # Strip spaces so \"A   \" → \"A\"\n",
    "    clean = lbl.strip()\n",
    "    n_res = len(u.select_atoms(f\"{key_word} {clean}\").residues)\n",
    "    print(f\"{attr[:-1].capitalize()} {clean}: {n_res} residues\")"
   ]
  },
  {
   "cell_type": "code",
   "execution_count": 3,
   "id": "f9e29212-48dc-4fb1-9bf6-2aa4b0bbad45",
   "metadata": {},
   "outputs": [
    {
     "data": {
      "text/plain": [
       "<AtomGroup with 3235 atoms>"
      ]
     },
     "execution_count": 3,
     "metadata": {},
     "output_type": "execute_result"
    }
   ],
   "source": [
    "protein_selection = u.select_atoms(\n",
    "    \"protein and byres around 20.0 group ligand\", ligand=ligand_selection\n",
    ")\n",
    "protein_selection"
   ]
  },
  {
   "cell_type": "code",
   "execution_count": 4,
   "id": "4f9320ca-3e53-43f4-85a4-001e0b9ca00a",
   "metadata": {},
   "outputs": [
    {
     "data": {
      "text/plain": [
       "<AtomGroup with 3235 atoms>"
      ]
     },
     "execution_count": 4,
     "metadata": {},
     "output_type": "execute_result"
    }
   ],
   "source": [
    "protein_selection = u.select_atoms(\n",
    "    \"(protein or resname WAT) and byres around 20.0 group ligand\",\n",
    "    ligand=ligand_selection,\n",
    ")\n",
    "protein_selection"
   ]
  },
  {
   "cell_type": "code",
   "execution_count": 5,
   "id": "c25c6be7-9ab4-4fb0-a0eb-6623ae0535c1",
   "metadata": {},
   "outputs": [
    {
     "name": "stderr",
     "output_type": "stream",
     "text": [
      "/tmp/ipykernel_2185687/1162995084.py:1: DeprecationWarning: `guess_atom_element` is deprecated!\n",
      "`guess_atom_element` will be removed in release 3.0.0.\n",
      "MDAnalysis.topology.guessers is deprecated in favour of the new Guessers API. See MDAnalysis.guesser.default_guesser for more details.\n",
      "  elements = [guess_atom_element(name) for name in u.atoms.names]\n"
     ]
    },
    {
     "data": {
      "image/svg+xml": [
       "<svg xmlns=\"http://www.w3.org/2000/svg\" xmlns:rdkit=\"http://www.rdkit.org/xml\" xmlns:xlink=\"http://www.w3.org/1999/xlink\" version=\"1.1\" baseProfile=\"full\" xml:space=\"preserve\" width=\"1600px\" height=\"200px\" viewBox=\"0 0 1600 200\">\n",
       "<!-- END OF HEADER -->\n",
       "<rect style=\"opacity:1.0;fill:#FFFFFF;stroke:none\" width=\"400.0\" height=\"200.0\" x=\"0.0\" y=\"0.0\"> </rect>\n",
       "<path class=\"bond-0 atom-1 atom-2\" d=\"M 231.7,136.6 L 231.8,137.3\" style=\"fill:none;fill-rule:evenodd;stroke:#0000FF;stroke-width:1.0px;stroke-linecap:butt;stroke-linejoin:miter;stroke-opacity:1\"/>\n",
       "<path class=\"bond-0 atom-1 atom-2\" d=\"M 228.1,136.9 L 228.4,138.3\" style=\"fill:none;fill-rule:evenodd;stroke:#0000FF;stroke-width:1.0px;stroke-linecap:butt;stroke-linejoin:miter;stroke-opacity:1\"/>\n",
       "<path class=\"bond-0 atom-1 atom-2\" d=\"M 224.6,137.2 L 224.9,139.3\" style=\"fill:none;fill-rule:evenodd;stroke:#0000FF;stroke-width:1.0px;stroke-linecap:butt;stroke-linejoin:miter;stroke-opacity:1\"/>\n",
       "<path class=\"bond-0 atom-1 atom-2\" d=\"M 221.0,137.5 L 221.5,140.3\" style=\"fill:none;fill-rule:evenodd;stroke:#0000FF;stroke-width:1.0px;stroke-linecap:butt;stroke-linejoin:miter;stroke-opacity:1\"/>\n",
       "<path class=\"bond-0 atom-1 atom-2\" d=\"M 217.4,137.7 L 218.1,141.3\" style=\"fill:none;fill-rule:evenodd;stroke:#0000FF;stroke-width:1.0px;stroke-linecap:butt;stroke-linejoin:miter;stroke-opacity:1\"/>\n",
       "<path class=\"bond-0 atom-1 atom-2\" d=\"M 213.8,138.0 L 214.6,142.3\" style=\"fill:none;fill-rule:evenodd;stroke:#000000;stroke-width:1.0px;stroke-linecap:butt;stroke-linejoin:miter;stroke-opacity:1\"/>\n",
       "<path class=\"bond-0 atom-1 atom-2\" d=\"M 210.3,138.3 L 211.2,143.3\" style=\"fill:none;fill-rule:evenodd;stroke:#000000;stroke-width:1.0px;stroke-linecap:butt;stroke-linejoin:miter;stroke-opacity:1\"/>\n",
       "<path class=\"bond-0 atom-1 atom-2\" d=\"M 206.7,138.6 L 207.7,144.3\" style=\"fill:none;fill-rule:evenodd;stroke:#000000;stroke-width:1.0px;stroke-linecap:butt;stroke-linejoin:miter;stroke-opacity:1\"/>\n",
       "<path class=\"bond-0 atom-1 atom-2\" d=\"M 203.1,138.9 L 204.3,145.3\" style=\"fill:none;fill-rule:evenodd;stroke:#000000;stroke-width:1.0px;stroke-linecap:butt;stroke-linejoin:miter;stroke-opacity:1\"/>\n",
       "<path class=\"bond-1 atom-0 atom-3\" d=\"M 135.5,116.3 L 153.8,112.9\" style=\"fill:none;fill-rule:evenodd;stroke:#0000FF;stroke-width:2.0px;stroke-linecap:butt;stroke-linejoin:miter;stroke-opacity:1\"/>\n",
       "<path class=\"bond-1 atom-0 atom-3\" d=\"M 153.8,112.9 L 172.1,109.6\" style=\"fill:none;fill-rule:evenodd;stroke:#000000;stroke-width:2.0px;stroke-linecap:butt;stroke-linejoin:miter;stroke-opacity:1\"/>\n",
       "<path class=\"bond-2 atom-2 atom-3\" d=\"M 200.1,142.7 L 172.1,109.6\" style=\"fill:none;fill-rule:evenodd;stroke:#000000;stroke-width:2.0px;stroke-linecap:butt;stroke-linejoin:miter;stroke-opacity:1\"/>\n",
       "<path class=\"bond-3 atom-0 atom-4\" d=\"M 126.7,124.9 L 120.8,141.6\" style=\"fill:none;fill-rule:evenodd;stroke:#0000FF;stroke-width:2.0px;stroke-linecap:butt;stroke-linejoin:miter;stroke-opacity:1\"/>\n",
       "<path class=\"bond-3 atom-0 atom-4\" d=\"M 120.8,141.6 L 114.8,158.2\" style=\"fill:none;fill-rule:evenodd;stroke:#000000;stroke-width:2.0px;stroke-linecap:butt;stroke-linejoin:miter;stroke-opacity:1\"/>\n",
       "<path class=\"bond-4 atom-4 atom-5\" d=\"M 114.8,158.2 L 72.1,165.9\" style=\"fill:none;fill-rule:evenodd;stroke:#000000;stroke-width:2.0px;stroke-linecap:butt;stroke-linejoin:miter;stroke-opacity:1\"/>\n",
       "<path class=\"bond-5 atom-5 atom-6\" d=\"M 72.1,165.9 L 44.1,132.8\" style=\"fill:none;fill-rule:evenodd;stroke:#000000;stroke-width:2.0px;stroke-linecap:butt;stroke-linejoin:miter;stroke-opacity:1\"/>\n",
       "<path class=\"bond-6 atom-6 atom-7\" d=\"M 44.1,132.8 L 58.7,92.0\" style=\"fill:none;fill-rule:evenodd;stroke:#000000;stroke-width:2.0px;stroke-linecap:butt;stroke-linejoin:miter;stroke-opacity:1\"/>\n",
       "<path class=\"bond-7 atom-7 atom-8\" d=\"M 58.7,92.0 L 30.7,58.9\" style=\"fill:none;fill-rule:evenodd;stroke:#000000;stroke-width:2.0px;stroke-linecap:butt;stroke-linejoin:miter;stroke-opacity:1\"/>\n",
       "<path class=\"bond-7 atom-7 atom-8\" d=\"M 61.3,84.9 L 38.1,57.6\" style=\"fill:none;fill-rule:evenodd;stroke:#000000;stroke-width:2.0px;stroke-linecap:butt;stroke-linejoin:miter;stroke-opacity:1\"/>\n",
       "<path class=\"bond-8 atom-8 atom-9\" d=\"M 30.7,58.9 L 45.3,18.1\" style=\"fill:none;fill-rule:evenodd;stroke:#000000;stroke-width:2.0px;stroke-linecap:butt;stroke-linejoin:miter;stroke-opacity:1\"/>\n",
       "<path class=\"bond-9 atom-9 atom-10\" d=\"M 45.3,18.1 L 88.0,10.4\" style=\"fill:none;fill-rule:evenodd;stroke:#000000;stroke-width:2.0px;stroke-linecap:butt;stroke-linejoin:miter;stroke-opacity:1\"/>\n",
       "<path class=\"bond-9 atom-9 atom-10\" d=\"M 50.2,23.8 L 85.5,17.5\" style=\"fill:none;fill-rule:evenodd;stroke:#000000;stroke-width:2.0px;stroke-linecap:butt;stroke-linejoin:miter;stroke-opacity:1\"/>\n",
       "<path class=\"bond-10 atom-10 atom-11\" d=\"M 88.0,10.4 L 116.0,43.5\" style=\"fill:none;fill-rule:evenodd;stroke:#000000;stroke-width:2.0px;stroke-linecap:butt;stroke-linejoin:miter;stroke-opacity:1\"/>\n",
       "<path class=\"bond-11 atom-0 atom-12\" d=\"M 123.4,110.2 L 112.4,97.2\" style=\"fill:none;fill-rule:evenodd;stroke:#0000FF;stroke-width:2.0px;stroke-linecap:butt;stroke-linejoin:miter;stroke-opacity:1\"/>\n",
       "<path class=\"bond-11 atom-0 atom-12\" d=\"M 112.4,97.2 L 101.4,84.3\" style=\"fill:none;fill-rule:evenodd;stroke:#000000;stroke-width:2.0px;stroke-linecap:butt;stroke-linejoin:miter;stroke-opacity:1\"/>\n",
       "<path class=\"bond-12 atom-7 atom-12\" d=\"M 58.7,92.0 L 101.4,84.3\" style=\"fill:none;fill-rule:evenodd;stroke:#000000;stroke-width:2.0px;stroke-linecap:butt;stroke-linejoin:miter;stroke-opacity:1\"/>\n",
       "<path class=\"bond-13 atom-11 atom-12\" d=\"M 116.0,43.5 L 101.4,84.3\" style=\"fill:none;fill-rule:evenodd;stroke:#000000;stroke-width:2.0px;stroke-linecap:butt;stroke-linejoin:miter;stroke-opacity:1\"/>\n",
       "<path class=\"bond-13 atom-11 atom-12\" d=\"M 108.7,44.8 L 96.6,78.6\" style=\"fill:none;fill-rule:evenodd;stroke:#000000;stroke-width:2.0px;stroke-linecap:butt;stroke-linejoin:miter;stroke-opacity:1\"/>\n",
       "<path class=\"bond-14 atom-1 atom-13\" d=\"M 248.3,142.5 L 258.3,156.3\" style=\"fill:none;fill-rule:evenodd;stroke:#0000FF;stroke-width:2.0px;stroke-linecap:butt;stroke-linejoin:miter;stroke-opacity:1\"/>\n",
       "<path class=\"bond-14 atom-1 atom-13\" d=\"M 258.3,156.3 L 268.3,170.0\" style=\"fill:none;fill-rule:evenodd;stroke:#000000;stroke-width:2.0px;stroke-linecap:butt;stroke-linejoin:miter;stroke-opacity:1\"/>\n",
       "<path class=\"bond-15 atom-13 atom-14\" d=\"M 268.3,170.0 L 311.6,172.0\" style=\"fill:none;fill-rule:evenodd;stroke:#000000;stroke-width:2.0px;stroke-linecap:butt;stroke-linejoin:miter;stroke-opacity:1\"/>\n",
       "<path class=\"bond-16 atom-14 atom-15\" d=\"M 311.6,172.0 L 340.1,139.3\" style=\"fill:none;fill-rule:evenodd;stroke:#000000;stroke-width:2.0px;stroke-linecap:butt;stroke-linejoin:miter;stroke-opacity:1\"/>\n",
       "<path class=\"bond-17 atom-15 atom-16\" d=\"M 340.1,139.3 L 332.4,96.7\" style=\"fill:none;fill-rule:evenodd;stroke:#000000;stroke-width:2.0px;stroke-linecap:butt;stroke-linejoin:miter;stroke-opacity:1\"/>\n",
       "<path class=\"bond-18 atom-16 atom-17\" d=\"M 332.4,96.7 L 369.3,73.9\" style=\"fill:none;fill-rule:evenodd;stroke:#000000;stroke-width:2.0px;stroke-linecap:butt;stroke-linejoin:miter;stroke-opacity:1\"/>\n",
       "<path class=\"bond-19 atom-17 atom-18\" d=\"M 369.3,73.9 L 368.0,30.6\" style=\"fill:none;fill-rule:evenodd;stroke:#000000;stroke-width:2.0px;stroke-linecap:butt;stroke-linejoin:miter;stroke-opacity:1\"/>\n",
       "<path class=\"bond-19 atom-17 atom-18\" d=\"M 362.7,70.3 L 361.6,34.5\" style=\"fill:none;fill-rule:evenodd;stroke:#000000;stroke-width:2.0px;stroke-linecap:butt;stroke-linejoin:miter;stroke-opacity:1\"/>\n",
       "<path class=\"bond-20 atom-18 atom-19\" d=\"M 368.0,30.6 L 329.8,10.0\" style=\"fill:none;fill-rule:evenodd;stroke:#000000;stroke-width:2.0px;stroke-linecap:butt;stroke-linejoin:miter;stroke-opacity:1\"/>\n",
       "<path class=\"bond-21 atom-19 atom-20\" d=\"M 329.8,10.0 L 292.9,32.8\" style=\"fill:none;fill-rule:evenodd;stroke:#000000;stroke-width:2.0px;stroke-linecap:butt;stroke-linejoin:miter;stroke-opacity:1\"/>\n",
       "<path class=\"bond-21 atom-19 atom-20\" d=\"M 330.0,17.5 L 299.5,36.3\" style=\"fill:none;fill-rule:evenodd;stroke:#000000;stroke-width:2.0px;stroke-linecap:butt;stroke-linejoin:miter;stroke-opacity:1\"/>\n",
       "<path class=\"bond-22 atom-16 atom-21\" d=\"M 332.4,96.7 L 294.2,76.1\" style=\"fill:none;fill-rule:evenodd;stroke:#000000;stroke-width:2.0px;stroke-linecap:butt;stroke-linejoin:miter;stroke-opacity:1\"/>\n",
       "<path class=\"bond-22 atom-16 atom-21\" d=\"M 332.2,89.2 L 300.6,72.2\" style=\"fill:none;fill-rule:evenodd;stroke:#000000;stroke-width:2.0px;stroke-linecap:butt;stroke-linejoin:miter;stroke-opacity:1\"/>\n",
       "<path class=\"bond-23 atom-20 atom-21\" d=\"M 292.9,32.8 L 294.2,76.1\" style=\"fill:none;fill-rule:evenodd;stroke:#000000;stroke-width:2.0px;stroke-linecap:butt;stroke-linejoin:miter;stroke-opacity:1\"/>\n",
       "<path class=\"bond-24 atom-1 atom-22\" d=\"M 244.9,127.4 L 249.6,110.3\" style=\"fill:none;fill-rule:evenodd;stroke:#0000FF;stroke-width:2.0px;stroke-linecap:butt;stroke-linejoin:miter;stroke-opacity:1\"/>\n",
       "<path class=\"bond-24 atom-1 atom-22\" d=\"M 249.6,110.3 L 254.3,93.2\" style=\"fill:none;fill-rule:evenodd;stroke:#000000;stroke-width:2.0px;stroke-linecap:butt;stroke-linejoin:miter;stroke-opacity:1\"/>\n",
       "<path class=\"bond-25 atom-21 atom-22\" d=\"M 294.2,76.1 L 254.3,93.2\" style=\"fill:none;fill-rule:evenodd;stroke:#000000;stroke-width:2.0px;stroke-linecap:butt;stroke-linejoin:miter;stroke-opacity:1\"/>\n",
       "<path class=\"bond-26 atom-3 atom-23\" d=\"M 174.5,112.5 L 180.8,95.1\" style=\"fill:none;fill-rule:evenodd;stroke:#000000;stroke-width:2.0px;stroke-linecap:butt;stroke-linejoin:miter;stroke-opacity:1\"/>\n",
       "<path class=\"bond-26 atom-3 atom-23\" d=\"M 180.8,95.1 L 187.0,77.7\" style=\"fill:none;fill-rule:evenodd;stroke:#FF0000;stroke-width:2.0px;stroke-linecap:butt;stroke-linejoin:miter;stroke-opacity:1\"/>\n",
       "<path class=\"bond-26 atom-3 atom-23\" d=\"M 168.4,110.3 L 174.6,92.9\" style=\"fill:none;fill-rule:evenodd;stroke:#000000;stroke-width:2.0px;stroke-linecap:butt;stroke-linejoin:miter;stroke-opacity:1\"/>\n",
       "<path class=\"bond-26 atom-3 atom-23\" d=\"M 174.6,92.9 L 180.9,75.5\" style=\"fill:none;fill-rule:evenodd;stroke:#FF0000;stroke-width:2.0px;stroke-linecap:butt;stroke-linejoin:miter;stroke-opacity:1\"/>\n",
       "<path d=\"M 171.2,109.8 L 172.1,109.6 L 173.5,111.3\" style=\"fill:none;stroke:#000000;stroke-width:2.0px;stroke-linecap:butt;stroke-linejoin:miter;stroke-opacity:1;\"/>\n",
       "<path d=\"M 115.1,157.3 L 114.8,158.2 L 112.7,158.6\" style=\"fill:none;stroke:#000000;stroke-width:2.0px;stroke-linecap:butt;stroke-linejoin:miter;stroke-opacity:1;\"/>\n",
       "<path d=\"M 74.3,165.5 L 72.1,165.9 L 70.7,164.3\" style=\"fill:none;stroke:#000000;stroke-width:2.0px;stroke-linecap:butt;stroke-linejoin:miter;stroke-opacity:1;\"/>\n",
       "<path d=\"M 45.5,134.5 L 44.1,132.8 L 44.8,130.8\" style=\"fill:none;stroke:#000000;stroke-width:2.0px;stroke-linecap:butt;stroke-linejoin:miter;stroke-opacity:1;\"/>\n",
       "<path d=\"M 32.1,60.6 L 30.7,58.9 L 31.4,56.9\" style=\"fill:none;stroke:#000000;stroke-width:2.0px;stroke-linecap:butt;stroke-linejoin:miter;stroke-opacity:1;\"/>\n",
       "<path d=\"M 44.6,20.2 L 45.3,18.1 L 47.5,17.7\" style=\"fill:none;stroke:#000000;stroke-width:2.0px;stroke-linecap:butt;stroke-linejoin:miter;stroke-opacity:1;\"/>\n",
       "<path d=\"M 85.9,10.8 L 88.0,10.4 L 89.4,12.0\" style=\"fill:none;stroke:#000000;stroke-width:2.0px;stroke-linecap:butt;stroke-linejoin:miter;stroke-opacity:1;\"/>\n",
       "<path d=\"M 114.6,41.8 L 116.0,43.5 L 115.3,45.5\" style=\"fill:none;stroke:#000000;stroke-width:2.0px;stroke-linecap:butt;stroke-linejoin:miter;stroke-opacity:1;\"/>\n",
       "<path d=\"M 267.8,169.4 L 268.3,170.0 L 270.5,170.1\" style=\"fill:none;stroke:#000000;stroke-width:2.0px;stroke-linecap:butt;stroke-linejoin:miter;stroke-opacity:1;\"/>\n",
       "<path d=\"M 309.4,171.9 L 311.6,172.0 L 313.0,170.4\" style=\"fill:none;stroke:#000000;stroke-width:2.0px;stroke-linecap:butt;stroke-linejoin:miter;stroke-opacity:1;\"/>\n",
       "<path d=\"M 338.7,141.0 L 340.1,139.3 L 339.8,137.2\" style=\"fill:none;stroke:#000000;stroke-width:2.0px;stroke-linecap:butt;stroke-linejoin:miter;stroke-opacity:1;\"/>\n",
       "<path d=\"M 367.4,75.0 L 369.3,73.9 L 369.2,71.7\" style=\"fill:none;stroke:#000000;stroke-width:2.0px;stroke-linecap:butt;stroke-linejoin:miter;stroke-opacity:1;\"/>\n",
       "<path d=\"M 368.1,32.7 L 368.0,30.6 L 366.1,29.5\" style=\"fill:none;stroke:#000000;stroke-width:2.0px;stroke-linecap:butt;stroke-linejoin:miter;stroke-opacity:1;\"/>\n",
       "<path d=\"M 331.7,11.0 L 329.8,10.0 L 328.0,11.1\" style=\"fill:none;stroke:#000000;stroke-width:2.0px;stroke-linecap:butt;stroke-linejoin:miter;stroke-opacity:1;\"/>\n",
       "<path d=\"M 294.8,31.7 L 292.9,32.8 L 293.0,35.0\" style=\"fill:none;stroke:#000000;stroke-width:2.0px;stroke-linecap:butt;stroke-linejoin:miter;stroke-opacity:1;\"/>\n",
       "<path d=\"M 254.1,94.0 L 254.3,93.2 L 256.3,92.3\" style=\"fill:none;stroke:#000000;stroke-width:2.0px;stroke-linecap:butt;stroke-linejoin:miter;stroke-opacity:1;\"/>\n",
       "<path class=\"atom-0\" d=\"M 126.7 111.2 L 130.8 117.7 Q 131.2 118.4, 131.8 119.5 Q 132.4 120.7, 132.5 120.8 L 132.5 111.2 L 134.1 111.2 L 134.1 123.5 L 132.4 123.5 L 128.1 116.4 Q 127.6 115.6, 127.1 114.6 Q 126.5 113.6, 126.4 113.4 L 126.4 123.5 L 124.8 123.5 L 124.8 111.2 L 126.7 111.2 \" fill=\"#0000FF\"/>\n",
       "<path class=\"atom-1\" d=\"M 240.1 128.8 L 244.1 135.3 Q 244.5 136.0, 245.2 137.1 Q 245.8 138.3, 245.8 138.4 L 245.8 128.8 L 247.5 128.8 L 247.5 141.1 L 245.8 141.1 L 241.5 134.0 Q 241.0 133.2, 240.4 132.2 Q 239.9 131.3, 239.7 131.0 L 239.7 141.1 L 238.1 141.1 L 238.1 128.8 L 240.1 128.8 \" fill=\"#0000FF\"/>\n",
       "<path class=\"atom-1\" d=\"M 249.8 128.8 L 251.5 128.8 L 251.5 134.0 L 257.7 134.0 L 257.7 128.8 L 259.4 128.8 L 259.4 141.1 L 257.7 141.1 L 257.7 135.4 L 251.5 135.4 L 251.5 141.1 L 249.8 141.1 L 249.8 128.8 \" fill=\"#0000FF\"/>\n",
       "<path class=\"atom-1\" d=\"M 261.8 131.0 L 264.0 131.0 L 264.0 128.8 L 264.9 128.8 L 264.9 131.0 L 267.1 131.0 L 267.1 131.9 L 264.9 131.9 L 264.9 134.2 L 264.0 134.2 L 264.0 131.9 L 261.8 131.9 L 261.8 131.0 \" fill=\"#0000FF\"/>\n",
       "<path class=\"atom-23\" d=\"M 181.1 68.8 Q 181.1 65.9, 182.6 64.2 Q 184.0 62.6, 186.7 62.6 Q 189.5 62.6, 190.9 64.2 Q 192.4 65.9, 192.4 68.8 Q 192.4 71.8, 190.9 73.5 Q 189.4 75.2, 186.7 75.2 Q 184.0 75.2, 182.6 73.5 Q 181.1 71.8, 181.1 68.8 M 186.7 73.8 Q 188.6 73.8, 189.6 72.6 Q 190.6 71.3, 190.6 68.8 Q 190.6 66.4, 189.6 65.2 Q 188.6 64.0, 186.7 64.0 Q 184.9 64.0, 183.8 65.2 Q 182.8 66.4, 182.8 68.8 Q 182.8 71.3, 183.8 72.6 Q 184.9 73.8, 186.7 73.8 \" fill=\"#FF0000\"/>\n",
       "<path class=\"legend\" d=\"M 184.7 178.5 L 186.2 178.5 L 186.2 188.5 L 191.4 188.5 L 191.4 189.9 L 184.7 189.9 L 184.7 178.5 \" fill=\"#000000\"/>\n",
       "<path class=\"legend\" d=\"M 192.5 178.5 L 194.0 178.5 L 194.0 189.9 L 192.5 189.9 L 192.5 178.5 \" fill=\"#000000\"/>\n",
       "<path class=\"legend\" d=\"M 205.2 184.3 L 205.2 189.1 Q 203.6 190.0, 201.2 190.0 Q 198.7 190.0, 197.4 188.5 Q 196.1 187.0, 196.1 184.2 Q 196.1 181.4, 197.4 179.9 Q 198.7 178.4, 201.2 178.4 Q 202.5 178.4, 203.5 178.8 Q 204.4 179.2, 205.1 180.0 L 204.1 180.9 Q 203.0 179.7, 201.2 179.7 Q 199.5 179.7, 198.6 180.8 Q 197.7 182.0, 197.7 184.2 Q 197.7 186.4, 198.6 187.6 Q 199.6 188.7, 201.4 188.7 Q 202.6 188.7, 203.6 188.3 L 203.6 184.3 L 205.2 184.3 \" fill=\"#000000\"/>\n",
       "<path class=\"legend\" d=\"M 211.2 190.0 Q 209.1 190.0, 208.0 188.4 Q 207.0 186.9, 207.0 184.2 Q 207.0 181.4, 208.0 179.9 Q 209.1 178.4, 211.2 178.4 Q 213.2 178.4, 214.3 179.9 Q 215.3 181.4, 215.3 184.2 Q 215.3 186.9, 214.3 188.4 Q 213.2 190.0, 211.2 190.0 M 211.2 188.7 Q 212.4 188.7, 213.0 187.6 Q 213.7 186.4, 213.7 184.2 Q 213.7 182.0, 213.0 180.8 Q 212.4 179.7, 211.2 179.7 Q 209.9 179.7, 209.3 180.8 Q 208.6 182.0, 208.6 184.2 Q 208.6 186.4, 209.3 187.6 Q 209.9 188.7, 211.2 188.7 \" fill=\"#000000\"/>\n",
       "</svg>"
      ],
      "text/plain": [
       "<IPython.core.display.SVG object>"
      ]
     },
     "execution_count": 5,
     "metadata": {},
     "output_type": "execute_result"
    }
   ],
   "source": [
    "elements = [guess_atom_element(name) for name in u.atoms.names]\n",
    "u.add_TopologyAttr(\"elements\", elements)\n",
    "\n",
    "# ------------------------------------------------------------------\n",
    "# 3 · Convert the ligand AtomGroup to a ProLIF Molecule  ────────────\n",
    "#    `ligand_selection` was defined earlier — reuse it.\n",
    "# ------------------------------------------------------------------\n",
    "ligand_mol = plf.Molecule.from_mda(ligand_selection)\n",
    "\n",
    "# ------------------------------------------------------------------\n",
    "# 4 · Quick visual sanity-check (Jupyter-friendly)  ─────────────────\n",
    "# ------------------------------------------------------------------\n",
    "plf.display_residues(ligand_mol, size=(400, 200))"
   ]
  },
  {
   "cell_type": "code",
   "execution_count": 6,
   "id": "a37f1140-7c72-4b5a-ad68-bcc69183582f",
   "metadata": {},
   "outputs": [],
   "source": [
    "#protein_mol = plf.Molecule.from_mda(protein_selection)\n",
    "# remove the `slice(20)` part to show all residues\n",
    "#plf.display_residues(protein_mol, slice(20))"
   ]
  },
  {
   "cell_type": "code",
   "execution_count": 7,
   "id": "13bab72f-3365-49cc-9376-b5b00c3d7e1d",
   "metadata": {},
   "outputs": [
    {
     "data": {
      "text/plain": [
       "['Anionic',\n",
       " 'CationPi',\n",
       " 'Cationic',\n",
       " 'EdgeToFace',\n",
       " 'FaceToFace',\n",
       " 'HBAcceptor',\n",
       " 'HBDonor',\n",
       " 'Hydrophobic',\n",
       " 'MetalAcceptor',\n",
       " 'MetalDonor',\n",
       " 'PiCation',\n",
       " 'PiStacking',\n",
       " 'VdWContact',\n",
       " 'XBAcceptor',\n",
       " 'XBDonor']"
      ]
     },
     "execution_count": 7,
     "metadata": {},
     "output_type": "execute_result"
    }
   ],
   "source": [
    "plf.Fingerprint.list_available()"
   ]
  },
  {
   "cell_type": "code",
   "execution_count": 26,
   "id": "acf1e935-b1be-40dd-8462-83735c4cd590",
   "metadata": {},
   "outputs": [],
   "source": [
    "# use default interactions\n",
    "fp = plf.Fingerprint(['Cationic','Hydrophobic','PiStacking'])\n",
    "# run on a slice of the trajectory frames: from begining to end with a step of 10\n",
    "#fp.run(u.trajectory[::2000], ligand_selection, protein_selection)"
   ]
  },
  {
   "cell_type": "code",
   "execution_count": 27,
   "id": "a5ed6135-ef44-4d5e-a0e5-bb060ff08632",
   "metadata": {},
   "outputs": [
    {
     "data": {
      "application/vnd.jupyter.widget-view+json": {
       "model_id": "a1601ce853e24d56bf604717762481ff",
       "version_major": 2,
       "version_minor": 0
      },
      "text/plain": [
       "  0%|          | 0/51 [00:00<?, ?it/s]"
      ]
     },
     "metadata": {},
     "output_type": "display_data"
    },
    {
     "data": {
      "text/plain": [
       "<prolif.fingerprint.Fingerprint: 3 interactions: ['Hydrophobic', 'Cationic', 'PiStacking'] at 0x7fdb0338da90>"
      ]
     },
     "execution_count": 27,
     "metadata": {},
     "output_type": "execute_result"
    }
   ],
   "source": [
    "fp.run(\n",
    "    u.trajectory[::200],\n",
    "    ligand_selection,\n",
    "    protein_selection,\n",
    "    n_jobs=10,\n",
    "    residues=[\"ILE146\",\"ASP149\", \"MET153\", \"TYR328\"]\n",
    ")"
   ]
  },
  {
   "cell_type": "code",
   "execution_count": 28,
   "id": "019dea5b-3747-4ec2-9d6d-5dca5cf4e097",
   "metadata": {},
   "outputs": [],
   "source": [
    "fp.to_pickle(\"fingerprint.pkl\")\n",
    "fp = plf.Fingerprint.from_pickle(\"fingerprint.pkl\")"
   ]
  },
  {
   "cell_type": "code",
   "execution_count": 29,
   "id": "e4b2e586-7bd1-4162-bde0-fca6fda86ddd",
   "metadata": {},
   "outputs": [
    {
     "data": {
      "text/plain": [
       "{'Cationic': ({'indices': {'ligand': (1,), 'protein': (7,)},\n",
       "   'parent_indices': {'ligand': (1,), 'protein': (1107,)},\n",
       "   'distance': 4.009760272281352},)}"
      ]
     },
     "execution_count": 29,
     "metadata": {},
     "output_type": "execute_result"
    }
   ],
   "source": [
    "frame_number = 0\n",
    "ligand_residue = \"LIG0\"\n",
    "protein_residue = \"ASP149\"\n",
    "\n",
    "fp.ifp[frame_number][(ligand_residue, protein_residue)]"
   ]
  },
  {
   "cell_type": "code",
   "execution_count": 30,
   "id": "898cb650-0160-41f9-ad60-1208ea28ca01",
   "metadata": {},
   "outputs": [
    {
     "name": "stdout",
     "output_type": "stream",
     "text": [
      "All atoms in MET153.C2 have formal charge 0 in the RDKit model.\n"
     ]
    }
   ],
   "source": [
    "protein_ag = u.select_atoms(\"protein\")\n",
    "prot_mol = plf.Molecule.from_mda(protein_ag)\n",
    "met153_ag = u.select_atoms(\"segid C2 and resname MET and resid 153\")\n",
    "\n",
    "met153_ag = u.select_atoms(\"segid C2 and resname MET and resid 153\")\n",
    "\n",
    "if len(met153_ag) == 0:\n",
    "    raise ValueError(\"No atoms matched MET 153 in segid C2\")\n",
    "\n",
    "# ── 2 · Convert that AtomGroup directly to an RDKit Mol ────────────────\n",
    "rdmol = met153_ag.convert_to.rdkit()        # works in every MDAnalysis ≥ 2.0\n",
    "\n",
    "# ── 3 · List atoms that carry a non-zero formal charge ─────────────────\n",
    "charged = []\n",
    "for atom in rdmol.GetAtoms():\n",
    "    q = atom.GetFormalCharge()\n",
    "    if q != 0:\n",
    "        ri = atom.GetPDBResidueInfo()       # may be None, handle safely\n",
    "        atom_name = ri.GetName().strip() if ri else f\"IDX{atom.GetIdx()}\"\n",
    "        charged.append((atom_name, atom.GetSymbol(), q))\n",
    "\n",
    "if charged:\n",
    "    print(\"Atoms in MET153.C2 with non-zero formal charge:\")\n",
    "    for name, elem, q in charged:\n",
    "        print(f\"  {name:>4}  element={elem:<2}  formal charge = {q:+}\")\n",
    "else:\n",
    "    print(\"All atoms in MET153.C2 have formal charge 0 in the RDKit model.\")\n"
   ]
  },
  {
   "cell_type": "code",
   "execution_count": 31,
   "id": "d28c935c-2c61-4953-8bd8-6856697744d5",
   "metadata": {},
   "outputs": [
    {
     "data": {
      "text/html": [
       "<div>\n",
       "<style scoped>\n",
       "    .dataframe tbody tr th:only-of-type {\n",
       "        vertical-align: middle;\n",
       "    }\n",
       "\n",
       "    .dataframe tbody tr th {\n",
       "        vertical-align: top;\n",
       "    }\n",
       "\n",
       "    .dataframe thead tr th {\n",
       "        text-align: left;\n",
       "    }\n",
       "\n",
       "    .dataframe thead tr:last-of-type th {\n",
       "        text-align: right;\n",
       "    }\n",
       "</style>\n",
       "<table border=\"1\" class=\"dataframe\">\n",
       "  <thead>\n",
       "    <tr>\n",
       "      <th>ligand</th>\n",
       "      <th colspan=\"6\" halign=\"left\">LIG0</th>\n",
       "    </tr>\n",
       "    <tr>\n",
       "      <th>protein</th>\n",
       "      <th>ILE146</th>\n",
       "      <th colspan=\"2\" halign=\"left\">ASP149</th>\n",
       "      <th>MET153</th>\n",
       "      <th colspan=\"2\" halign=\"left\">TYR328</th>\n",
       "    </tr>\n",
       "    <tr>\n",
       "      <th>interaction</th>\n",
       "      <th>Hydrophobic</th>\n",
       "      <th>Hydrophobic</th>\n",
       "      <th>Cationic</th>\n",
       "      <th>Hydrophobic</th>\n",
       "      <th>Hydrophobic</th>\n",
       "      <th>PiStacking</th>\n",
       "    </tr>\n",
       "    <tr>\n",
       "      <th>Frame</th>\n",
       "      <th></th>\n",
       "      <th></th>\n",
       "      <th></th>\n",
       "      <th></th>\n",
       "      <th></th>\n",
       "      <th></th>\n",
       "    </tr>\n",
       "  </thead>\n",
       "  <tbody>\n",
       "    <tr>\n",
       "      <th>0</th>\n",
       "      <td>True</td>\n",
       "      <td>False</td>\n",
       "      <td>True</td>\n",
       "      <td>True</td>\n",
       "      <td>True</td>\n",
       "      <td>False</td>\n",
       "    </tr>\n",
       "    <tr>\n",
       "      <th>200</th>\n",
       "      <td>False</td>\n",
       "      <td>False</td>\n",
       "      <td>True</td>\n",
       "      <td>True</td>\n",
       "      <td>True</td>\n",
       "      <td>True</td>\n",
       "    </tr>\n",
       "    <tr>\n",
       "      <th>400</th>\n",
       "      <td>False</td>\n",
       "      <td>False</td>\n",
       "      <td>True</td>\n",
       "      <td>True</td>\n",
       "      <td>True</td>\n",
       "      <td>True</td>\n",
       "    </tr>\n",
       "    <tr>\n",
       "      <th>600</th>\n",
       "      <td>False</td>\n",
       "      <td>False</td>\n",
       "      <td>True</td>\n",
       "      <td>True</td>\n",
       "      <td>True</td>\n",
       "      <td>True</td>\n",
       "    </tr>\n",
       "    <tr>\n",
       "      <th>800</th>\n",
       "      <td>False</td>\n",
       "      <td>False</td>\n",
       "      <td>True</td>\n",
       "      <td>True</td>\n",
       "      <td>True</td>\n",
       "      <td>True</td>\n",
       "    </tr>\n",
       "    <tr>\n",
       "      <th>1000</th>\n",
       "      <td>True</td>\n",
       "      <td>False</td>\n",
       "      <td>True</td>\n",
       "      <td>True</td>\n",
       "      <td>True</td>\n",
       "      <td>True</td>\n",
       "    </tr>\n",
       "    <tr>\n",
       "      <th>1200</th>\n",
       "      <td>True</td>\n",
       "      <td>False</td>\n",
       "      <td>True</td>\n",
       "      <td>True</td>\n",
       "      <td>True</td>\n",
       "      <td>True</td>\n",
       "    </tr>\n",
       "    <tr>\n",
       "      <th>1400</th>\n",
       "      <td>True</td>\n",
       "      <td>False</td>\n",
       "      <td>True</td>\n",
       "      <td>True</td>\n",
       "      <td>True</td>\n",
       "      <td>True</td>\n",
       "    </tr>\n",
       "    <tr>\n",
       "      <th>1600</th>\n",
       "      <td>True</td>\n",
       "      <td>True</td>\n",
       "      <td>True</td>\n",
       "      <td>True</td>\n",
       "      <td>True</td>\n",
       "      <td>False</td>\n",
       "    </tr>\n",
       "    <tr>\n",
       "      <th>1800</th>\n",
       "      <td>True</td>\n",
       "      <td>True</td>\n",
       "      <td>True</td>\n",
       "      <td>True</td>\n",
       "      <td>True</td>\n",
       "      <td>True</td>\n",
       "    </tr>\n",
       "  </tbody>\n",
       "</table>\n",
       "</div>"
      ],
      "text/plain": [
       "ligand             LIG0                                               \\\n",
       "protein          ILE146      ASP149               MET153      TYR328   \n",
       "interaction Hydrophobic Hydrophobic Cationic Hydrophobic Hydrophobic   \n",
       "Frame                                                                  \n",
       "0                  True       False     True        True        True   \n",
       "200               False       False     True        True        True   \n",
       "400               False       False     True        True        True   \n",
       "600               False       False     True        True        True   \n",
       "800               False       False     True        True        True   \n",
       "1000               True       False     True        True        True   \n",
       "1200               True       False     True        True        True   \n",
       "1400               True       False     True        True        True   \n",
       "1600               True        True     True        True        True   \n",
       "1800               True        True     True        True        True   \n",
       "\n",
       "ligand                  \n",
       "protein                 \n",
       "interaction PiStacking  \n",
       "Frame                   \n",
       "0                False  \n",
       "200               True  \n",
       "400               True  \n",
       "600               True  \n",
       "800               True  \n",
       "1000              True  \n",
       "1200              True  \n",
       "1400              True  \n",
       "1600             False  \n",
       "1800              True  "
      ]
     },
     "execution_count": 31,
     "metadata": {},
     "output_type": "execute_result"
    }
   ],
   "source": [
    "df = fp.to_dataframe()\n",
    "# show only the 10 first frames\n",
    "df.head(10)"
   ]
  },
  {
   "cell_type": "code",
   "execution_count": 32,
   "id": "52fa640c-f089-4d9c-abd5-8584073baa11",
   "metadata": {},
   "outputs": [
    {
     "data": {
      "text/html": [
       "<div>\n",
       "<style scoped>\n",
       "    .dataframe tbody tr th:only-of-type {\n",
       "        vertical-align: middle;\n",
       "    }\n",
       "\n",
       "    .dataframe tbody tr th {\n",
       "        vertical-align: top;\n",
       "    }\n",
       "\n",
       "    .dataframe thead tr th {\n",
       "        text-align: left;\n",
       "    }\n",
       "\n",
       "    .dataframe thead tr:last-of-type th {\n",
       "        text-align: right;\n",
       "    }\n",
       "</style>\n",
       "<table border=\"1\" class=\"dataframe\">\n",
       "  <thead>\n",
       "    <tr>\n",
       "      <th>ligand</th>\n",
       "      <th>LIG0</th>\n",
       "    </tr>\n",
       "    <tr>\n",
       "      <th>interaction</th>\n",
       "      <th>Hydrophobic</th>\n",
       "    </tr>\n",
       "    <tr>\n",
       "      <th>Frame</th>\n",
       "      <th></th>\n",
       "    </tr>\n",
       "  </thead>\n",
       "  <tbody>\n",
       "    <tr>\n",
       "      <th>0</th>\n",
       "      <td>True</td>\n",
       "    </tr>\n",
       "    <tr>\n",
       "      <th>200</th>\n",
       "      <td>True</td>\n",
       "    </tr>\n",
       "    <tr>\n",
       "      <th>400</th>\n",
       "      <td>True</td>\n",
       "    </tr>\n",
       "    <tr>\n",
       "      <th>600</th>\n",
       "      <td>True</td>\n",
       "    </tr>\n",
       "    <tr>\n",
       "      <th>800</th>\n",
       "      <td>True</td>\n",
       "    </tr>\n",
       "  </tbody>\n",
       "</table>\n",
       "</div>"
      ],
      "text/plain": [
       "ligand             LIG0\n",
       "interaction Hydrophobic\n",
       "Frame                  \n",
       "0                  True\n",
       "200                True\n",
       "400                True\n",
       "600                True\n",
       "800                True"
      ]
     },
     "execution_count": 32,
     "metadata": {},
     "output_type": "execute_result"
    }
   ],
   "source": [
    "# show only one protein residue (ASP129.A)\n",
    "df.xs(\"MET153\", level=\"protein\", axis=1).head(5)"
   ]
  },
  {
   "cell_type": "code",
   "execution_count": 33,
   "id": "96f950ec-666e-4a26-b210-3afd51e3b783",
   "metadata": {},
   "outputs": [
    {
     "data": {
      "text/html": [
       "<div>\n",
       "<style scoped>\n",
       "    .dataframe tbody tr th:only-of-type {\n",
       "        vertical-align: middle;\n",
       "    }\n",
       "\n",
       "    .dataframe tbody tr th {\n",
       "        vertical-align: top;\n",
       "    }\n",
       "\n",
       "    .dataframe thead tr th {\n",
       "        text-align: left;\n",
       "    }\n",
       "\n",
       "    .dataframe thead tr:last-of-type th {\n",
       "        text-align: right;\n",
       "    }\n",
       "</style>\n",
       "<table border=\"1\" class=\"dataframe\">\n",
       "  <thead>\n",
       "    <tr>\n",
       "      <th>ligand</th>\n",
       "      <th>LIG0</th>\n",
       "    </tr>\n",
       "    <tr>\n",
       "      <th>protein</th>\n",
       "      <th>TYR328</th>\n",
       "    </tr>\n",
       "    <tr>\n",
       "      <th>Frame</th>\n",
       "      <th></th>\n",
       "    </tr>\n",
       "  </thead>\n",
       "  <tbody>\n",
       "    <tr>\n",
       "      <th>0</th>\n",
       "      <td>False</td>\n",
       "    </tr>\n",
       "    <tr>\n",
       "      <th>200</th>\n",
       "      <td>True</td>\n",
       "    </tr>\n",
       "    <tr>\n",
       "      <th>400</th>\n",
       "      <td>True</td>\n",
       "    </tr>\n",
       "    <tr>\n",
       "      <th>600</th>\n",
       "      <td>True</td>\n",
       "    </tr>\n",
       "    <tr>\n",
       "      <th>800</th>\n",
       "      <td>True</td>\n",
       "    </tr>\n",
       "  </tbody>\n",
       "</table>\n",
       "</div>"
      ],
      "text/plain": [
       "ligand    LIG0\n",
       "protein TYR328\n",
       "Frame         \n",
       "0        False\n",
       "200       True\n",
       "400       True\n",
       "600       True\n",
       "800       True"
      ]
     },
     "execution_count": 33,
     "metadata": {},
     "output_type": "execute_result"
    }
   ],
   "source": [
    "# show only an interaction type (PiStacking)\n",
    "df.xs(\"PiStacking\", level=\"interaction\", axis=1).head(5)"
   ]
  },
  {
   "cell_type": "code",
   "execution_count": 34,
   "id": "05e2c320-3d11-431b-9f99-9e725f0ca865",
   "metadata": {},
   "outputs": [
    {
     "data": {
      "text/html": [
       "<div>\n",
       "<style scoped>\n",
       "    .dataframe tbody tr th:only-of-type {\n",
       "        vertical-align: middle;\n",
       "    }\n",
       "\n",
       "    .dataframe tbody tr th {\n",
       "        vertical-align: top;\n",
       "    }\n",
       "\n",
       "    .dataframe thead tr th {\n",
       "        text-align: left;\n",
       "    }\n",
       "</style>\n",
       "<table border=\"1\" class=\"dataframe\">\n",
       "  <thead>\n",
       "    <tr>\n",
       "      <th>ligand</th>\n",
       "      <th colspan=\"6\" halign=\"left\">LIG0</th>\n",
       "    </tr>\n",
       "    <tr>\n",
       "      <th>protein</th>\n",
       "      <th>TYR328</th>\n",
       "      <th>MET153</th>\n",
       "      <th>ASP149</th>\n",
       "      <th>ILE146</th>\n",
       "      <th>TYR328</th>\n",
       "      <th>ASP149</th>\n",
       "    </tr>\n",
       "    <tr>\n",
       "      <th>interaction</th>\n",
       "      <th>Hydrophobic</th>\n",
       "      <th>Hydrophobic</th>\n",
       "      <th>Cationic</th>\n",
       "      <th>Hydrophobic</th>\n",
       "      <th>PiStacking</th>\n",
       "      <th>Hydrophobic</th>\n",
       "    </tr>\n",
       "  </thead>\n",
       "  <tbody>\n",
       "    <tr>\n",
       "      <th>%</th>\n",
       "      <td>98.039216</td>\n",
       "      <td>98.039216</td>\n",
       "      <td>92.156863</td>\n",
       "      <td>88.235294</td>\n",
       "      <td>72.54902</td>\n",
       "      <td>52.941176</td>\n",
       "    </tr>\n",
       "  </tbody>\n",
       "</table>\n",
       "</div>"
      ],
      "text/plain": [
       "ligand             LIG0                                                \\\n",
       "protein          TYR328      MET153     ASP149      ILE146     TYR328   \n",
       "interaction Hydrophobic Hydrophobic   Cationic Hydrophobic PiStacking   \n",
       "%             98.039216   98.039216  92.156863   88.235294   72.54902   \n",
       "\n",
       "ligand                   \n",
       "protein          ASP149  \n",
       "interaction Hydrophobic  \n",
       "%             52.941176  "
      ]
     },
     "execution_count": 34,
     "metadata": {},
     "output_type": "execute_result"
    }
   ],
   "source": [
    "# percentage of the trajectory where each interaction is present\n",
    "(df.mean().sort_values(ascending=False).to_frame(name=\"%\").T * 100)"
   ]
  },
  {
   "cell_type": "code",
   "execution_count": 35,
   "id": "70d2bc09-8690-44d1-9fdd-044dec629d7d",
   "metadata": {},
   "outputs": [
    {
     "data": {
      "text/html": [
       "<div>\n",
       "<style scoped>\n",
       "    .dataframe tbody tr th:only-of-type {\n",
       "        vertical-align: middle;\n",
       "    }\n",
       "\n",
       "    .dataframe tbody tr th {\n",
       "        vertical-align: top;\n",
       "    }\n",
       "\n",
       "    .dataframe thead tr th {\n",
       "        text-align: left;\n",
       "    }\n",
       "</style>\n",
       "<table border=\"1\" class=\"dataframe\">\n",
       "  <thead>\n",
       "    <tr>\n",
       "      <th>ligand</th>\n",
       "      <th colspan=\"4\" halign=\"left\">LIG0</th>\n",
       "    </tr>\n",
       "    <tr>\n",
       "      <th>protein</th>\n",
       "      <th>TYR328</th>\n",
       "      <th>MET153</th>\n",
       "      <th>ASP149</th>\n",
       "      <th>ILE146</th>\n",
       "    </tr>\n",
       "  </thead>\n",
       "  <tbody>\n",
       "    <tr>\n",
       "      <th>%</th>\n",
       "      <td>98.039216</td>\n",
       "      <td>98.039216</td>\n",
       "      <td>96.078431</td>\n",
       "      <td>88.235294</td>\n",
       "    </tr>\n",
       "  </tbody>\n",
       "</table>\n",
       "</div>"
      ],
      "text/plain": [
       "ligand        LIG0                                 \n",
       "protein     TYR328     MET153     ASP149     ILE146\n",
       "%        98.039216  98.039216  96.078431  88.235294"
      ]
     },
     "execution_count": 35,
     "metadata": {},
     "output_type": "execute_result"
    }
   ],
   "source": [
    "# same but we regroup all interaction types\n",
    "(\n",
    "    df.T.groupby(level=[\"ligand\", \"protein\"])\n",
    "    .sum()\n",
    "    .T.astype(bool)\n",
    "    .mean()\n",
    "    .sort_values(ascending=False)\n",
    "    .to_frame(name=\"%\")\n",
    "    .T\n",
    "    * 100\n",
    ")"
   ]
  },
  {
   "cell_type": "code",
   "execution_count": 36,
   "id": "a054ed6c-57af-43cf-a01e-91ea4bb254d1",
   "metadata": {},
   "outputs": [
    {
     "data": {
      "text/html": [
       "<div>\n",
       "<style scoped>\n",
       "    .dataframe tbody tr th:only-of-type {\n",
       "        vertical-align: middle;\n",
       "    }\n",
       "\n",
       "    .dataframe tbody tr th {\n",
       "        vertical-align: top;\n",
       "    }\n",
       "\n",
       "    .dataframe thead tr th {\n",
       "        text-align: left;\n",
       "    }\n",
       "</style>\n",
       "<table border=\"1\" class=\"dataframe\">\n",
       "  <thead>\n",
       "    <tr>\n",
       "      <th>ligand</th>\n",
       "      <th>LIG0</th>\n",
       "    </tr>\n",
       "    <tr>\n",
       "      <th>protein</th>\n",
       "      <th>ASP149</th>\n",
       "    </tr>\n",
       "  </thead>\n",
       "  <tbody>\n",
       "    <tr>\n",
       "      <th>%</th>\n",
       "      <td>92.156863</td>\n",
       "    </tr>\n",
       "  </tbody>\n",
       "</table>\n",
       "</div>"
      ],
      "text/plain": [
       "ligand        LIG0\n",
       "protein     ASP149\n",
       "%        92.156863"
      ]
     },
     "execution_count": 36,
     "metadata": {},
     "output_type": "execute_result"
    }
   ],
   "source": [
    "# percentage of the trajectory where PiStacking interactions are present, by residue\n",
    "(\n",
    "    df.xs(\"Cationic\", level=\"interaction\", axis=1)\n",
    "    .mean()\n",
    "    .sort_values(ascending=False)\n",
    "    .to_frame(name=\"%\")\n",
    "    .T\n",
    "    * 100\n",
    ")"
   ]
  },
  {
   "cell_type": "code",
   "execution_count": 37,
   "id": "dd27692b-6708-44b5-9cd1-8cfc08bd4301",
   "metadata": {},
   "outputs": [
    {
     "data": {
      "text/plain": [
       "<Axes: xlabel='Frame'>"
      ]
     },
     "execution_count": 37,
     "metadata": {},
     "output_type": "execute_result"
    },
    {
     "data": {
      "image/png": "[encoded data removed]",
      "text/plain": [
       "<Figure size 800x1000 with 1 Axes>"
      ]
     },
     "metadata": {},
     "output_type": "display_data"
    }
   ],
   "source": [
    "# %matplotlib ipympl\n",
    "\n",
    "#fp.plot_barcode()"
   ]
  },
  {
   "cell_type": "code",
   "execution_count": null,
   "id": "d4cafd58-8b80-4095-8130-1d2a659c7c1c",
   "metadata": {},
   "outputs": [],
   "source": []
  },
  {
   "cell_type": "code",
   "execution_count": 38,
   "id": "da00c447-8b4d-4141-8cb1-fc15d8820ed6",
   "metadata": {},
   "outputs": [
    {
     "data": {
      "image/png": "[encoded data removed]",
      "text/plain": [
       "<Figure size 900x500 with 1 Axes>"
      ]
     },
     "metadata": {},
     "output_type": "display_data"
    }
   ],
   "source": [
    "from prolif.plotting.barcode import Barcode\n",
    "import numpy as np\n",
    "import matplotlib.pyplot as plt\n",
    "\n",
    "bar = Barcode.from_fingerprint(fp)\n",
    "ax  = bar.display(\n",
    "        figsize=(9, 5),\n",
    "        residues_tick_location=\"bottom\",\n",
    "        n_frame_ticks=12,\n",
    ")\n",
    "\n",
    "# ── rename “Cationic” → “Salt Bridge” in the legend\n",
    "leg = ax.get_legend()\n",
    "for txt in leg.get_texts():\n",
    "    if txt.get_text() == \"Cationic\":\n",
    "        txt.set_text(\"Salt Bridge\")\n",
    "        break\n",
    "\n",
    "leg.set_title(\"Interaction\", prop={\"weight\": \"bold\", \"size\": 11})\n",
    "leg.set_bbox_to_anchor((1.02, 1.0))\n",
    "leg.set_loc(\"upper left\")\n",
    "leg.get_frame().set_edgecolor(\"none\")\n",
    "\n",
    "# ── thin white gaps between frame columns\n",
    "n_frames = bar.df.shape[1]                # use ‘df’, not ‘data’\n",
    "ax.set_xticks(np.arange(-0.5, n_frames, 1), minor=True)\n",
    "ax.grid(which=\"minor\", axis=\"x\",\n",
    "        color=\"white\", linewidth=0.8)\n",
    "ax.tick_params(which=\"minor\", bottom=False)   # hide minor tick marks\n",
    "\n",
    "plt.show()\n"
   ]
  },
  {
   "cell_type": "code",
   "execution_count": 39,
   "id": "2602f096-2ec9-4bd6-8042-83a63e381be4",
   "metadata": {},
   "outputs": [],
   "source": [
    "#fig = ax.figure                       # the Matplotlib Figure object\n",
    "\n",
    "#fig.savefig(\"barcode_ph6.2.svg\",  format=\"svg\",  bbox_inches=\"tight\")   # crisp, vector\n",
    "#fig.savefig(\"barcode_ph6.2.png\",  format=\"png\",  dpi=300,  bbox_inches=\"tight\") "
   ]
  },
  {
   "cell_type": "code",
   "execution_count": 40,
   "id": "e57cae94-efcd-4eaa-9db8-f56b0dfda875",
   "metadata": {},
   "outputs": [
    {
     "data": {
      "image/png": "[encoded data removed]",
      "text/plain": [
       "<Figure size 1080x600 with 1 Axes>"
      ]
     },
     "metadata": {},
     "output_type": "display_data"
    }
   ],
   "source": [
    "import re\n",
    "import numpy as np\n",
    "import matplotlib.pyplot as plt\n",
    "from prolif.plotting.barcode import Barcode\n",
    "\n",
    "\n",
    "# ────────────────────────────────────────────────────────────────\n",
    "# helper ─ plain residue ID from any ProLIF key\n",
    "# ────────────────────────────────────────────────────────────────\n",
    "def _plain_id(res):\n",
    "    \"\"\"\n",
    "    Convert one entry from bar.df.index level 0 to 'RES123' (no chain).\n",
    "    Handles both of ProLIF’s formats:\n",
    "      • string  \"ASP149.A\"\n",
    "      • tuple   ('ASP', 149, 'A')\n",
    "    \"\"\"\n",
    "    if isinstance(res, tuple):                     # ('ASP', 149, 'A')\n",
    "        return f\"{res[0]}{res[1]}\"\n",
    "    # fall-back: stringify and grab letters+digits at start\n",
    "    m = re.match(r\"([A-Za-z]+-?\\d+)\", str(res))\n",
    "    return m.group(1) if m else str(res)\n",
    "\n",
    "\n",
    "def draw_residue_lines(ax, bar, residues_of_interest=None,\n",
    "                       color=\"black\", linewidth=1.2):\n",
    "    \"\"\"\n",
    "    Overlay a horizontal line AFTER each residue listed in residues_of_interest.\n",
    "    If residues_of_interest is None → line after **every** residue row.\n",
    "    \"\"\"\n",
    "    # first MI level = per-residue rows (len = n_rows)\n",
    "    full_ids = bar.df.index.get_level_values(0)\n",
    "    plain_ids = [_plain_id(r) for r in full_ids]\n",
    "\n",
    "    # bool: boundary between residue rows (current ≠ next)\n",
    "    boundaries = np.array(plain_ids[:-1]) != np.array(plain_ids[1:])\n",
    "\n",
    "    if residues_of_interest is not None:\n",
    "        mask = np.isin(plain_ids[:-1], list(residues_of_interest))\n",
    "        boundaries &= mask\n",
    "\n",
    "    rows = np.where(boundaries)[0]           # indices BEFORE the separator\n",
    "    if not len(rows):\n",
    "        return                               # nothing to draw\n",
    "\n",
    "    y_pos = rows + 0.5                       # between pixel rows\n",
    "    x_min, x_max = ax.get_xlim()\n",
    "    ax.hlines(y_pos, x_min, x_max,\n",
    "              colors=color, linewidths=linewidth, zorder=5)\n",
    "\n",
    "\n",
    "# ────────────────────────────────────────────────────────────────\n",
    "# 0 · your Fingerprint object\n",
    "# ────────────────────────────────────────────────────────────────\n",
    "# fp = ...   # make sure fp is defined\n",
    "\n",
    "# ────────────────────────────────────────────────────────────────\n",
    "# 1 · build barcode figure\n",
    "# ────────────────────────────────────────────────────────────────\n",
    "bar = Barcode.from_fingerprint(fp)\n",
    "ax  = bar.display(figsize=(9, 5),\n",
    "                  dpi=120,\n",
    "                  n_frame_ticks=12,\n",
    "                  residues_tick_location=\"bottom\")\n",
    "\n",
    "# ────────────────────────────────────────────────────────────────\n",
    "# 2 · legend: rename the ionic entry\n",
    "# ────────────────────────────────────────────────────────────────\n",
    "leg = ax.get_legend()\n",
    "for txt in leg.get_texts():\n",
    "    if txt.get_text() == \"Cationic\":\n",
    "        txt.set_text(\"Salt Bridge\")\n",
    "        break\n",
    "leg.set_title(\"Interaction\", prop={\"weight\": \"bold\", \"size\": 11})\n",
    "leg.set_bbox_to_anchor((1.02, 1.0))\n",
    "leg.set_loc(\"upper left\")\n",
    "leg.get_frame().set_edgecolor(\"none\")\n",
    "\n",
    "# ────────────────────────────────────────────────────────────────\n",
    "# 3 · vertical white gaps (frames)\n",
    "# ────────────────────────────────────────────────────────────────\n",
    "n_frames = bar.df.shape[1]\n",
    "ax.set_xticks(np.arange(-0.5, n_frames, 1), minor=True)\n",
    "ax.grid(which=\"minor\", axis=\"x\", color=\"white\", linewidth=0.8)\n",
    "ax.tick_params(which=\"minor\", bottom=False)\n",
    "\n",
    "# ────────────────────────────────────────────────────────────────\n",
    "# 4 · horizontal separators\n",
    "#     – list residues OR set to None for all\n",
    "# ────────────────────────────────────────────────────────────────\n",
    "horizontal_separator = {\"ILE146\",\"ASP149\", \"MET153\", \"TYR328\"}      # ⇦ edit this set, or None\n",
    "draw_residue_lines(ax, bar, horizontal_separator,\n",
    "                   color=\"black\", linewidth=1.2)\n",
    "\n",
    "# ────────────────────────────────────────────────────────────────\n",
    "# 5 · show & save\n",
    "# ────────────────────────────────────────────────────────────────\n",
    "plt.show()                              # omit in batch scripts\n",
    "\n",
    "\n"
   ]
  },
  {
   "cell_type": "code",
   "execution_count": 23,
   "id": "2315c0af-6358-4851-9bf9-b1157f32456c",
   "metadata": {},
   "outputs": [],
   "source": [
    "#fig = ax.figure\n",
    "#fig.savefig(\"barcodeph6_3.svg\", bbox_inches=\"tight\")\n",
    "#fig.savefig(\"barcodeph6_3.png\", dpi=300, bbox_inches=\"tight\")"
   ]
  },
  {
   "cell_type": "code",
   "execution_count": 43,
   "id": "683895b8-b6a4-424b-8500-d9119c07806c",
   "metadata": {},
   "outputs": [
    {
     "data": {
      "image/png": "[encoded data removed]",
      "text/plain": [
       "<Figure size 960x360 with 1 Axes>"
      ]
     },
     "metadata": {},
     "output_type": "display_data"
    }
   ],
   "source": [
    "import pandas as pd\n",
    "import numpy as np\n",
    "import matplotlib.pyplot as plt\n",
    "from prolif.plotting.barcode import Barcode\n",
    "\n",
    "# ────────────────────────────────────────────────────────────────\n",
    "# 0 · your Fingerprint object (already computed)\n",
    "# ────────────────────────────────────────────────────────────────\n",
    "# fp = ...\n",
    "\n",
    "# ────────────────────────────────────────────────────────────────\n",
    "# 1 · slice the DataFrame to keep only the target (residue, interaction) pairs\n",
    "# ────────────────────────────────────────────────────────────────\n",
    "df = fp.to_dataframe()                    # rows = frames, columns = MultiIndex\n",
    "targets = {                               # (plain residue ID, interaction class)\n",
    "    (\"ASP149\", \"Cationic\"),               # ← Salt-bridge (you’ll rename later)\n",
    "    (\"ILE146\", \"Hydrophobic\"),\n",
    "    (\"MET153\", \"Hydrophobic\"),\n",
    "    (\"TYR328\", \"PiStacking\"),\n",
    "}\n",
    "\n",
    "def _plain_id(res):\n",
    "    \"\"\"Return e.g. ('ASP',149,'A') → 'ASP149'  ·  'ASP149.A' → 'ASP149'.\"\"\"\n",
    "    if isinstance(res, tuple):            # ('ASP',149,'A') or similar\n",
    "        return f\"{res[0]}{res[1]}\"\n",
    "    return str(res).split(\".\")[0]         # fall-back on string form\n",
    "\n",
    "cols_to_keep = [\n",
    "    col for col in df.columns\n",
    "    if (_plain_id(col[1]), col[2]) in targets       # col = (lig, protein, interaction)\n",
    "]\n",
    "df_sel = df[cols_to_keep]\n",
    "\n",
    "# ────────────────────────────────────────────────────────────────\n",
    "# 2 · build the barcode from the filtered DataFrame\n",
    "# ────────────────────────────────────────────────────────────────\n",
    "bar = Barcode(df_sel)                     # same constructor used internally :contentReference[oaicite:0]{index=0}\n",
    "ax  = bar.display(figsize=(8, 3),\n",
    "                  dpi=120,\n",
    "                  n_frame_ticks=12,\n",
    "                  residues_tick_location=\"bottom\")\n",
    "\n",
    "# ────────────────────────────────────────────────────────────────\n",
    "# 3 · cosmetic tweaks (exactly as in your previous script)\n",
    "# ────────────────────────────────────────────────────────────────\n",
    "leg = ax.get_legend()\n",
    "for txt in leg.get_texts():\n",
    "    if txt.get_text() == \"Cationic\":      # rename in-plot to “Salt Bridge”\n",
    "        txt.set_text(\"Salt Bridge\")\n",
    "        break\n",
    "leg.set_title(\"Interaction\")                     # create the title\n",
    "title = leg.get_title()\n",
    "title.set_fontweight(\"bold\")\n",
    "title.set_fontsize(11)\n",
    "\n",
    "# vertical white gaps between frames\n",
    "n_frames = bar.df.shape[1]\n",
    "ax.set_xticks(np.arange(-0.5, n_frames, 1), minor=True)\n",
    "ax.grid(which=\"minor\", axis=\"x\", color=\"white\", linewidth=0.8)\n",
    "ax.tick_params(which=\"minor\", bottom=False)\n",
    "\n",
    "# optional horizontal separators (same helper you already wrote)\n",
    "horizontal_separator = {\"ASP149\", \"ILE146\", \"MET153\", \"TYR328\"}\n",
    "draw_residue_lines(ax, bar, horizontal_separator,\n",
    "                   color=\"black\", linewidth=1.2)\n",
    "\n",
    "plt.show()\n"
   ]
  },
  {
   "cell_type": "code",
   "execution_count": 44,
   "id": "23f9875e-041b-404c-8a4e-812b2a76407f",
   "metadata": {},
   "outputs": [],
   "source": [
    "fig = ax.figure\n",
    "fig.savefig(\"barcodeph6v_1.svg\", bbox_inches=\"tight\")\n",
    "fig.savefig(\"barcodeph6v_1.png\", dpi=300, bbox_inches=\"tight\")"
   ]
  }
 ],
 "metadata": {
  "kernelspec": {
   "display_name": "Python (mdanalysis)",
   "language": "python",
   "name": "mdanalysis"
  },
  "language_info": {
   "codemirror_mode": {
    "name": "ipython",
    "version": 3
   },
   "file_extension": ".py",
   "mimetype": "text/x-python",
   "name": "python",
   "nbconvert_exporter": "python",
   "pygments_lexer": "ipython3",
   "version": "3.12.8"
  }
 },
 "nbformat": 4,
 "nbformat_minor": 5
}
